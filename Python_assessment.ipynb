{
 "cells": [
  {
   "cell_type": "markdown",
   "metadata": {},
   "source": [
    "**Zuyin Penelas Ramos - Data Analyst at Data Processing**\n",
    "\n",
    "*Python Assessment*"
   ]
  },
  {
   "cell_type": "markdown",
   "metadata": {},
   "source": [
    "**OVERALL FEEDBACK**"
   ]
  },
  {
   "cell_type": "markdown",
   "metadata": {},
   "source": [
    "In general, I noticed that the questions allign with the main core goals and vision for our team, as they cover various aspects of Python fundamentals, Pandas, and data processing for market research. The level of questions are progressively increasing, I consider they are well structured and assess the candidate's knowledge and skills in these areas.\n",
    "In the responses provided below, I included clarification questions that could help the candidate better understand the question, by providing a more specific example. \n",
    "In some questions, I also added a sample dataframe or specific scenario to provide context and make the excercise more realistic. \n",
    "I also added a short feedback/suggestion in some other questions.\n",
    "\n",
    "In total, it took around me around 1.5h - 2h to complete - Time per question has been specified independently per question below, along with the source if used. I believe part of the time I consumed was given by thinking on edge cases that could affect the outputs from the functions I built, and creating the dataframes/situations for testing.\n"
   ]
  },
  {
   "cell_type": "markdown",
   "metadata": {},
   "source": [
    "**RESPONSES**"
   ]
  },
  {
   "cell_type": "markdown",
   "metadata": {},
   "source": [
    "***\n",
    "**Section 1: Python Fundamentals**\n",
    "***\n"
   ]
  },
  {
   "cell_type": "markdown",
   "metadata": {},
   "source": [
    "**Question 1:\tWhat is a Python list, and how is it different from a tuple? Provide an example of each.**\n",
    "\n",
    "- *time: 1min*      \n",
    "\n",
    "- *Source: Closed book*\n",
    "\n",
    "Answer:\n",
    "\n",
    "*Python list* is a sequence of elements that could have the same or different data type, that can be accessed, mutable and deleted. It is visually represented with square brackets. It uses a lot of memory and it runs slower than a tuple. It accepts more built-in functions that allow for elements to be modified. \n",
    "\n",
    "List = []\n",
    "\n",
    "*Python tuple* is a also a sequence of elements with the same or heterogenous data type, that can be accessed by the index, but it cannot be deleted or modified. It is represented with parenthesis. It uses less memory than a list. It is recommended for static data that does not change. Has a more limited list of built-in functions.\n",
    "\n",
    "Tuple = ()\n"
   ]
  },
  {
   "cell_type": "markdown",
   "metadata": {},
   "source": [
    "**Question 2: Explain the difference between shallow and deep copies in Python. How would you create a deep copy of a list?**\n",
    "\n",
    "- *time: 3min*      \n",
    "\n",
    "- *Source: Response produced independently, after reviewing the concepts on Ipsos Facto*\n",
    "\n",
    "A **shallow copy** creates a copy based on references to an original object. With that said, if an element of the copied object changes, it will also affect the original object. It is cheaper in terms of memory use with respect to make a deep copy.\n",
    "\n",
    "To create a shallow copy:\n",
    "Shallow_copied_list = copy.copy(original_list)\n",
    "\n",
    "On the other hand, a **deep copy** makes an independent copy of the object, that allows for changes to be made to the copied object without affecting the original. It is more expensive in terms of memory use.\n",
    "\n",
    "To create a deep copy:\n",
    "Deep_copied_list = copy.deepcopy(original_list)\n"
   ]
  },
  {
   "cell_type": "markdown",
   "metadata": {},
   "source": [
    "**Question 3:\tWrite a Python function that takes a list of integers and returns the second largest number.**\n",
    "\n",
    "- *time: 5 min*      \n",
    "\n",
    "- *Source: Closed book*"
   ]
  },
  {
   "cell_type": "code",
   "execution_count": 2,
   "metadata": {},
   "outputs": [
    {
     "data": {
      "text/plain": [
       "23"
      ]
     },
     "execution_count": 2,
     "metadata": {},
     "output_type": "execute_result"
    }
   ],
   "source": [
    "# Question 3: Python function that takes a list of integers and returns the second largest number.\n",
    "'''\n",
    "    Additional questions:\n",
    "    When you refer second largest, the assumption is that all numbers are unique values and we will select the second largest number, or if we have duplicates, the second element of the list could potentially match the first largest number?\n",
    "    We are running on the assumpion that the list only contains numbers. Should I account for the situation whether we have an heterogenous list in terms of data types?\n",
    "'''\n",
    "def check_integers(list_num: list):\n",
    "    set_int = set()\n",
    "    for item in list_num:\n",
    "        if type(item) != int:\n",
    "            continue\n",
    "        set_int.add(item)\n",
    "    return set_int\n",
    "            \n",
    "\n",
    "def second_largest(list_num: list):\n",
    "    list_int = check_integers(list_num)\n",
    "    sorted_list = sorted(list_int, reverse = True) # sorting the list of unique values in a descending order\n",
    "    second_largest = sorted_list[1] # retrieve the second largest number\n",
    "    # print(sorted_list)\n",
    "\n",
    "    return second_largest\n",
    "\n",
    "list_num = [0,4,1024,'p',2,0,8,23,12,-1]\n",
    "second_largest(list_num)"
   ]
  },
  {
   "cell_type": "markdown",
   "metadata": {},
   "source": [
    "**Question 4: What is the difference between == and is in Python? Provide examples of when to use each.**\n",
    "\n",
    "- *time: up to 1min*      \n",
    "\n",
    "- *Source: Closed book*\n",
    "\n",
    "Answer:\n",
    "\n",
    "== establishes a value that a variable needs to be equal as, whereas “is in” relates to whether that variable is included in a sequence of elements\n",
    "\n",
    "For instance:\n",
    "\n",
    "value = 80\n",
    "\n",
    "if value == 80: --> creates a condition that would be True only if the value is strictly equal to 80, otherwise it would be triggered as False. In this example, it would be True, as the value given is 80\n",
    "\n",
    "if value isin range(0,81) --> is a condition that evaluates if the value is included in any of the elements of the list form 0 to 80. In this example it would be True.\n",
    "\n",
    "in the scenario where:\n",
    "value = 70\n",
    "\n",
    "if value == 80: -->  False\n",
    "\n",
    "if value isin range(0,81) --> True"
   ]
  },
  {
   "cell_type": "markdown",
   "metadata": {},
   "source": [
    "**Question 5:\tExplain how exceptions are handled in Python. Write a function that divides two numbers, returning None if the divisor is zero.**\n",
    "\n",
    "- *time: 2 min*      \n",
    "\n",
    "- *Source: Closed book*\n",
    "\n",
    "Answer:\n",
    "\n",
    "To handle exceptions, Python uses block as try and except, where try contains the code that might raise an exception. If an exception occurs, the rest of the try block is skipped and the except block is executed. And except: catches and handles the exception. A message can be customized to print to make the understanding of the error clearer."
   ]
  },
  {
   "cell_type": "code",
   "execution_count": 5,
   "metadata": {},
   "outputs": [
    {
     "data": {
      "text/plain": [
       "'None: This divisor cannot be zero'"
      ]
     },
     "execution_count": 5,
     "metadata": {},
     "output_type": "execute_result"
    }
   ],
   "source": [
    "# Question 5: Write a function that divides two numbers, returning None if the divisor is zero\n",
    "\n",
    "def division_by_zero(a: int,b: int):\n",
    "    try:\n",
    "        result = a/b\n",
    "        return f'The result is {result}'\n",
    "    except:\n",
    "        return f'None: This divisor cannot be zero'\n",
    "    \n",
    "a = 0\n",
    "b = 0\n",
    "division_by_zero(a,b)"
   ]
  },
  {
   "cell_type": "markdown",
   "metadata": {},
   "source": [
    "***\n",
    "**SECTION 2: Pandas and Data Manipulation**\n",
    "***"
   ]
  },
  {
   "cell_type": "code",
   "execution_count": 6,
   "metadata": {},
   "outputs": [],
   "source": [
    "import pandas as pd\n",
    "import numpy as np"
   ]
  },
  {
   "cell_type": "markdown",
   "metadata": {},
   "source": [
    "**Question 6: Given a DataFrame df with columns ['Country', 'Product', 'Sales', 'Date'], write code to filter rows where Country is 'USA' and Sales are greater than 1000.**\n",
    "\n",
    "- *time: 4-5 min*      \n",
    "\n",
    "- *Source: Closed book*"
   ]
  },
  {
   "cell_type": "code",
   "execution_count": 7,
   "metadata": {},
   "outputs": [
    {
     "data": {
      "text/html": [
       "<div>\n",
       "<style scoped>\n",
       "    .dataframe tbody tr th:only-of-type {\n",
       "        vertical-align: middle;\n",
       "    }\n",
       "\n",
       "    .dataframe tbody tr th {\n",
       "        vertical-align: top;\n",
       "    }\n",
       "\n",
       "    .dataframe thead th {\n",
       "        text-align: right;\n",
       "    }\n",
       "</style>\n",
       "<table border=\"1\" class=\"dataframe\">\n",
       "  <thead>\n",
       "    <tr style=\"text-align: right;\">\n",
       "      <th></th>\n",
       "      <th>Country</th>\n",
       "      <th>Product</th>\n",
       "      <th>Sales</th>\n",
       "      <th>Date</th>\n",
       "      <th>ProductID</th>\n",
       "    </tr>\n",
       "  </thead>\n",
       "  <tbody>\n",
       "    <tr>\n",
       "      <th>0</th>\n",
       "      <td>USA</td>\n",
       "      <td>phone</td>\n",
       "      <td>3000</td>\n",
       "      <td>2024-10-24</td>\n",
       "      <td>1</td>\n",
       "    </tr>\n",
       "  </tbody>\n",
       "</table>\n",
       "</div>"
      ],
      "text/plain": [
       "  Country Product  Sales        Date ProductID\n",
       "0     USA   phone   3000  2024-10-24         1"
      ]
     },
     "execution_count": 7,
     "metadata": {},
     "output_type": "execute_result"
    }
   ],
   "source": [
    "data = {'Country': ['USA', 'FR', 'USA', 'CA'],\n",
    "        'Product': ['phone','phone', 'phone', 'phone'],\n",
    "        'Sales':[3000,2000,1000,200],\n",
    "        'Date':['2024-10-24','2024-10-24','2024-10-24','2024-10-24'],\n",
    "        'ProductID':['1','2','3','4']}\n",
    "\n",
    "def sales_in_country(data):\n",
    "    data_df = pd.DataFrame(data)\n",
    "    data_df_restricted = data_df[(((data_df['Country'] == 'USA')) & (data_df['Sales'] > 1000))]\n",
    "    return data_df_restricted\n",
    "\n",
    "sales_in_country(data)\n"
   ]
  },
  {
   "cell_type": "markdown",
   "metadata": {},
   "source": [
    "**Question 7: Explain the purpose of the groupby() function in Pandas. How would you use it to group the data in df by Country and calculate the total Sales for each country?**\n",
    "\n",
    "- *time: 2-3min*      \n",
    "\n",
    "- *Source: Closed book*\n",
    "\n",
    "The purpose of the groupby() function in pandas allows to group data that corresponds to a same category and perform aggregation by group. "
   ]
  },
  {
   "cell_type": "code",
   "execution_count": 8,
   "metadata": {},
   "outputs": [
    {
     "data": {
      "text/html": [
       "<div>\n",
       "<style scoped>\n",
       "    .dataframe tbody tr th:only-of-type {\n",
       "        vertical-align: middle;\n",
       "    }\n",
       "\n",
       "    .dataframe tbody tr th {\n",
       "        vertical-align: top;\n",
       "    }\n",
       "\n",
       "    .dataframe thead th {\n",
       "        text-align: right;\n",
       "    }\n",
       "</style>\n",
       "<table border=\"1\" class=\"dataframe\">\n",
       "  <thead>\n",
       "    <tr style=\"text-align: right;\">\n",
       "      <th></th>\n",
       "      <th>Sales</th>\n",
       "    </tr>\n",
       "    <tr>\n",
       "      <th>Country</th>\n",
       "      <th></th>\n",
       "    </tr>\n",
       "  </thead>\n",
       "  <tbody>\n",
       "    <tr>\n",
       "      <th>CA</th>\n",
       "      <td>200</td>\n",
       "    </tr>\n",
       "    <tr>\n",
       "      <th>FR</th>\n",
       "      <td>2000</td>\n",
       "    </tr>\n",
       "    <tr>\n",
       "      <th>USA</th>\n",
       "      <td>4000</td>\n",
       "    </tr>\n",
       "  </tbody>\n",
       "</table>\n",
       "</div>"
      ],
      "text/plain": [
       "         Sales\n",
       "Country       \n",
       "CA         200\n",
       "FR        2000\n",
       "USA       4000"
      ]
     },
     "execution_count": 8,
     "metadata": {},
     "output_type": "execute_result"
    }
   ],
   "source": [
    "# Question 7: group the data in df by Country and calculate the total Sales for each country\n",
    "\n",
    "def total_variable_per_group(data, group:str, variable:str):\n",
    "    '''\n",
    "    Returns the total sum of the 'variable' grouped by 'group'\n",
    "    For instance: If the purpose is to calculate the total sales per country:\n",
    "        group = 'Country'\n",
    "        variable  = 'Sales'\n",
    "    '''\n",
    "    data_df = pd.DataFrame(data)\n",
    "    sales_per_country = data_df.groupby(group).sum(variable)\n",
    "\n",
    "    return sales_per_country\n",
    "\n",
    "total_variable_per_group(data, 'Country', 'Sales')"
   ]
  },
  {
   "cell_type": "markdown",
   "metadata": {},
   "source": [
    "**Question 8:\tYou have two DataFrames, df1 and df2, where both have a column ID. Write code to merge these two DataFrames on the ID column.**\n",
    "\n",
    "- *time: 2-3min*      \n",
    "\n",
    "- *Source: Closed book*"
   ]
  },
  {
   "cell_type": "code",
   "execution_count": 10,
   "metadata": {},
   "outputs": [
    {
     "data": {
      "text/html": [
       "<div>\n",
       "<style scoped>\n",
       "    .dataframe tbody tr th:only-of-type {\n",
       "        vertical-align: middle;\n",
       "    }\n",
       "\n",
       "    .dataframe tbody tr th {\n",
       "        vertical-align: top;\n",
       "    }\n",
       "\n",
       "    .dataframe thead th {\n",
       "        text-align: right;\n",
       "    }\n",
       "</style>\n",
       "<table border=\"1\" class=\"dataframe\">\n",
       "  <thead>\n",
       "    <tr style=\"text-align: right;\">\n",
       "      <th></th>\n",
       "      <th>Country</th>\n",
       "      <th>Product</th>\n",
       "      <th>Sales</th>\n",
       "      <th>Date</th>\n",
       "      <th>ProductID</th>\n",
       "      <th>Brand</th>\n",
       "    </tr>\n",
       "  </thead>\n",
       "  <tbody>\n",
       "    <tr>\n",
       "      <th>0</th>\n",
       "      <td>USA</td>\n",
       "      <td>phone</td>\n",
       "      <td>3000</td>\n",
       "      <td>2024-10-24</td>\n",
       "      <td>1</td>\n",
       "      <td>Samsung</td>\n",
       "    </tr>\n",
       "    <tr>\n",
       "      <th>1</th>\n",
       "      <td>FR</td>\n",
       "      <td>phone</td>\n",
       "      <td>2000</td>\n",
       "      <td>2024-10-24</td>\n",
       "      <td>2</td>\n",
       "      <td>iPhone</td>\n",
       "    </tr>\n",
       "    <tr>\n",
       "      <th>2</th>\n",
       "      <td>USA</td>\n",
       "      <td>phone</td>\n",
       "      <td>1000</td>\n",
       "      <td>2024-10-24</td>\n",
       "      <td>3</td>\n",
       "      <td>Google</td>\n",
       "    </tr>\n",
       "    <tr>\n",
       "      <th>3</th>\n",
       "      <td>CA</td>\n",
       "      <td>phone</td>\n",
       "      <td>200</td>\n",
       "      <td>2024-10-24</td>\n",
       "      <td>4</td>\n",
       "      <td>Motorola</td>\n",
       "    </tr>\n",
       "  </tbody>\n",
       "</table>\n",
       "</div>"
      ],
      "text/plain": [
       "  Country Product  Sales        Date ProductID     Brand\n",
       "0     USA   phone   3000  2024-10-24         1   Samsung\n",
       "1      FR   phone   2000  2024-10-24         2    iPhone\n",
       "2     USA   phone   1000  2024-10-24         3    Google\n",
       "3      CA   phone    200  2024-10-24         4  Motorola"
      ]
     },
     "execution_count": 10,
     "metadata": {},
     "output_type": "execute_result"
    }
   ],
   "source": [
    "data2 = {'Brand': ['Samsung', 'iPhone', 'Google', 'Motorola'],\n",
    "        'ProductID':['1','2','3','4']}\n",
    "\n",
    "def merge_df(data1, data2, columnid: str):\n",
    "    data_df1 = pd.DataFrame(data1)\n",
    "    data_df2 = pd.DataFrame(data2)\n",
    "    data_merged = pd.merge(data_df1,data_df2, on = columnid)\n",
    "\n",
    "    return data_merged\n",
    "\n",
    "merge_df(data, data2, 'ProductID')"
   ]
  },
  {
   "cell_type": "markdown",
   "metadata": {},
   "source": [
    "**Question 9:\tWhat is the difference between apply(), map(), and applymap() in Pandas? Provide a use case for each.**\n",
    "\n",
    "- *time: 1min*      \n",
    "\n",
    "- *Source: Closed book*\n",
    "\n",
    "Answer:\n",
    "\n",
    "\n",
    "These are functions that apply another function to the entire dataset (as applymap()) or restricted to a series (as map()). Apply() will be the used in both levels, series and dataframe. In general, I have noticed them the are combined with lambda method."
   ]
  },
  {
   "cell_type": "markdown",
   "metadata": {},
   "source": [
    "**Question 10: Write a Python script using Pandas to handle missing data in a DataFrame. Specifically, fill missing numerical values with the column’s mean and drop rows where non-numerical values are missing.**\n",
    "\n",
    "- *time: 10-15 min (tried to think the full logic through) - presented 2 possible scenarios I could think of*    \n",
    "\n",
    "- *Source: Closed book*\n",
    "\n",
    "Answer:"
   ]
  },
  {
   "cell_type": "code",
   "execution_count": 15,
   "metadata": {},
   "outputs": [
    {
     "name": "stdout",
     "output_type": "stream",
     "text": [
      "This is that result when deleting rows containing missing non-numerical values first adn then calcualting the averages\n"
     ]
    },
    {
     "data": {
      "text/html": [
       "<div>\n",
       "<style scoped>\n",
       "    .dataframe tbody tr th:only-of-type {\n",
       "        vertical-align: middle;\n",
       "    }\n",
       "\n",
       "    .dataframe tbody tr th {\n",
       "        vertical-align: top;\n",
       "    }\n",
       "\n",
       "    .dataframe thead th {\n",
       "        text-align: right;\n",
       "    }\n",
       "</style>\n",
       "<table border=\"1\" class=\"dataframe\">\n",
       "  <thead>\n",
       "    <tr style=\"text-align: right;\">\n",
       "      <th></th>\n",
       "      <th>Country</th>\n",
       "      <th>Product</th>\n",
       "      <th>Sales</th>\n",
       "      <th>Date</th>\n",
       "      <th>ProductID</th>\n",
       "    </tr>\n",
       "  </thead>\n",
       "  <tbody>\n",
       "    <tr>\n",
       "      <th>1</th>\n",
       "      <td>FR</td>\n",
       "      <td>phone</td>\n",
       "      <td>5000.0</td>\n",
       "      <td>2024-10-24</td>\n",
       "      <td>2</td>\n",
       "    </tr>\n",
       "    <tr>\n",
       "      <th>4</th>\n",
       "      <td>USA</td>\n",
       "      <td>phone</td>\n",
       "      <td>5000.0</td>\n",
       "      <td>2024-10-24</td>\n",
       "      <td>5</td>\n",
       "    </tr>\n",
       "  </tbody>\n",
       "</table>\n",
       "</div>"
      ],
      "text/plain": [
       "  Country Product   Sales        Date ProductID\n",
       "1      FR   phone  5000.0  2024-10-24         2\n",
       "4     USA   phone  5000.0  2024-10-24         5"
      ]
     },
     "execution_count": 15,
     "metadata": {},
     "output_type": "execute_result"
    }
   ],
   "source": [
    "# Question 10: Write a Python script using Pandas to handle missing data in a DataFrame. Specifically, fill missing numerical values with the column’s mean and drop rows where non-numerical values are missing.\n",
    "'''\n",
    "# Aditional question\n",
    "\n",
    "Would we want to fill the numerical missing values with the average of the remaining values within the same column before of after dropping the rows that contain non-numerical missing values? \n",
    "'''\n",
    "# SCENARIO 1\n",
    "\n",
    "#Solving the problem under assumption rows with missing non-numerical missing values are dropped first\n",
    "\n",
    "data = {'Country': ['USA', 'FR', None, 'CA','USA'],\n",
    "        'Product': ['phone','phone', 'phone', None,'phone'],\n",
    "        'Sales':[3000,None,1000,200,5000],\n",
    "        'Date':[None,'2024-10-24','2024-10-24','2024-10-24','2024-10-24'],\n",
    "        'ProductID':['1','2','3','4','5']}\n",
    "\n",
    "def handle_missing_data_sol1(data):\n",
    "        data_df_1 = pd.DataFrame(data)\n",
    "        df_columns = data_df_1.columns.to_list()\n",
    "\n",
    "        for column in df_columns: # to first deal with the objects \n",
    "                column_str = str(column)\n",
    "                if data_df_1[column_str].dtype == object:\n",
    "                        data_df_1 = data_df_1.dropna(subset=[column_str])\n",
    "                \n",
    "        for column in df_columns: # to deal with numeric calculations last\n",
    "                column_str = str(column)\n",
    "                if data_df_1[column_str].dtype == float:\n",
    "                        data_df_1[column_str] = data_df_1[column_str].fillna(data_df_1[column_str].mean())\n",
    "        \n",
    "        return data_df_1\n",
    "\n",
    "print('This is that result when deleting rows containing missing non-numerical values first adn then calcualting the averages')\n",
    "handle_missing_data_sol1(data)\n",
    "\n"
   ]
  },
  {
   "cell_type": "code",
   "execution_count": 16,
   "metadata": {},
   "outputs": [
    {
     "name": "stdout",
     "output_type": "stream",
     "text": [
      "This is that result when calculating the mean of numerical values first and then deleting the rows containing missing non-numerical values\n"
     ]
    },
    {
     "data": {
      "text/html": [
       "<div>\n",
       "<style scoped>\n",
       "    .dataframe tbody tr th:only-of-type {\n",
       "        vertical-align: middle;\n",
       "    }\n",
       "\n",
       "    .dataframe tbody tr th {\n",
       "        vertical-align: top;\n",
       "    }\n",
       "\n",
       "    .dataframe thead th {\n",
       "        text-align: right;\n",
       "    }\n",
       "</style>\n",
       "<table border=\"1\" class=\"dataframe\">\n",
       "  <thead>\n",
       "    <tr style=\"text-align: right;\">\n",
       "      <th></th>\n",
       "      <th>Country</th>\n",
       "      <th>Product</th>\n",
       "      <th>Sales</th>\n",
       "      <th>Date</th>\n",
       "      <th>ProductID</th>\n",
       "    </tr>\n",
       "  </thead>\n",
       "  <tbody>\n",
       "    <tr>\n",
       "      <th>1</th>\n",
       "      <td>FR</td>\n",
       "      <td>phone</td>\n",
       "      <td>2300.0</td>\n",
       "      <td>2024-10-24</td>\n",
       "      <td>2</td>\n",
       "    </tr>\n",
       "    <tr>\n",
       "      <th>4</th>\n",
       "      <td>USA</td>\n",
       "      <td>phone</td>\n",
       "      <td>5000.0</td>\n",
       "      <td>2024-10-24</td>\n",
       "      <td>5</td>\n",
       "    </tr>\n",
       "  </tbody>\n",
       "</table>\n",
       "</div>"
      ],
      "text/plain": [
       "  Country Product   Sales        Date ProductID\n",
       "1      FR   phone  2300.0  2024-10-24         2\n",
       "4     USA   phone  5000.0  2024-10-24         5"
      ]
     },
     "execution_count": 16,
     "metadata": {},
     "output_type": "execute_result"
    }
   ],
   "source": [
    "# Question 10: Write a Python script using Pandas to handle missing data in a DataFrame. Specifically, fill missing numerical values with the column’s mean and drop rows where non-numerical values are missing.\n",
    "# Solution when averages are calculated first\n",
    "\n",
    "# SCENARIO 2\n",
    "\n",
    "def handle_missing_data_sol2(data):\n",
    "        data_df = pd.DataFrame(data)\n",
    "        df_columns = data_df.columns.to_list()\n",
    "\n",
    "        for column in df_columns: # to deal with numeric calculations first\n",
    "                column_str = str(column)\n",
    "                if data_df[column_str].dtype == float:\n",
    "                        data_df[column_str] = data_df[column_str].fillna(data_df[column_str].mean())\n",
    "\n",
    "        for column in df_columns: # to deal last with the objects \n",
    "                column_str = str(column)\n",
    "                if data_df[column_str].dtype == object:\n",
    "                        data_df = data_df.dropna(subset=[column_str])\n",
    "\n",
    "        return data_df\n",
    "\n",
    "print('This is that result when calculating the mean of numerical values first and then deleting the rows containing missing non-numerical values')\n",
    "handle_missing_data_sol2(data)"
   ]
  },
  {
   "cell_type": "markdown",
   "metadata": {},
   "source": [
    "**Question 11: Given a DataFrame with a Date column, how would you extract the month and year from the date and add it as two new columns?**\n",
    "\n",
    "- *time: 5-7 min*      \n",
    "\n",
    "- *Source: Closed book, but look into better practices*\n",
    "\n",
    "Answer:"
   ]
  },
  {
   "cell_type": "code",
   "execution_count": 11,
   "metadata": {},
   "outputs": [
    {
     "data": {
      "text/html": [
       "<div>\n",
       "<style scoped>\n",
       "    .dataframe tbody tr th:only-of-type {\n",
       "        vertical-align: middle;\n",
       "    }\n",
       "\n",
       "    .dataframe tbody tr th {\n",
       "        vertical-align: top;\n",
       "    }\n",
       "\n",
       "    .dataframe thead th {\n",
       "        text-align: right;\n",
       "    }\n",
       "</style>\n",
       "<table border=\"1\" class=\"dataframe\">\n",
       "  <thead>\n",
       "    <tr style=\"text-align: right;\">\n",
       "      <th></th>\n",
       "      <th>Country</th>\n",
       "      <th>ProductID</th>\n",
       "      <th>Sales</th>\n",
       "      <th>Date</th>\n",
       "      <th>Year</th>\n",
       "      <th>Month</th>\n",
       "    </tr>\n",
       "  </thead>\n",
       "  <tbody>\n",
       "    <tr>\n",
       "      <th>0</th>\n",
       "      <td>USA</td>\n",
       "      <td>1</td>\n",
       "      <td>3000</td>\n",
       "      <td>2024-10-23</td>\n",
       "      <td>2024</td>\n",
       "      <td>10</td>\n",
       "    </tr>\n",
       "    <tr>\n",
       "      <th>1</th>\n",
       "      <td>FR</td>\n",
       "      <td>2</td>\n",
       "      <td>2000</td>\n",
       "      <td>2024-04-09</td>\n",
       "      <td>2024</td>\n",
       "      <td>4</td>\n",
       "    </tr>\n",
       "    <tr>\n",
       "      <th>2</th>\n",
       "      <td>CA</td>\n",
       "      <td>3</td>\n",
       "      <td>1000</td>\n",
       "      <td>2024-03-24</td>\n",
       "      <td>2024</td>\n",
       "      <td>3</td>\n",
       "    </tr>\n",
       "    <tr>\n",
       "      <th>3</th>\n",
       "      <td>USA</td>\n",
       "      <td>4</td>\n",
       "      <td>200</td>\n",
       "      <td>2024-01-15</td>\n",
       "      <td>2024</td>\n",
       "      <td>1</td>\n",
       "    </tr>\n",
       "    <tr>\n",
       "      <th>4</th>\n",
       "      <td>AU</td>\n",
       "      <td>5</td>\n",
       "      <td>5000</td>\n",
       "      <td>2024-08-24</td>\n",
       "      <td>2024</td>\n",
       "      <td>8</td>\n",
       "    </tr>\n",
       "  </tbody>\n",
       "</table>\n",
       "</div>"
      ],
      "text/plain": [
       "  Country ProductID  Sales       Date  Year  Month\n",
       "0     USA         1   3000 2024-10-23  2024     10\n",
       "1      FR         2   2000 2024-04-09  2024      4\n",
       "2      CA         3   1000 2024-03-24  2024      3\n",
       "3     USA         4    200 2024-01-15  2024      1\n",
       "4      AU         5   5000 2024-08-24  2024      8"
      ]
     },
     "execution_count": 11,
     "metadata": {},
     "output_type": "execute_result"
    }
   ],
   "source": [
    "# Question 11: Given a DataFrame with a Date column, how would you extract the month and year from the date and add it as two new columns?\n",
    "from datetime import datetime\n",
    "datetime.strptime('2011-03-07','%Y-%m-%d')\n",
    "\n",
    "data = {'Country': ['USA', 'FR', 'CA','USA', 'AU'],\n",
    "        'ProductID':['1','2','3','4','5'],\n",
    "        'Sales':[3000,2000,1000,200,5000],\n",
    "        'Date':['2024-10-23','2024-04-09','2024-03-24','2024-01-15','2024-08-24']\n",
    "        }\n",
    "\n",
    "def extract_date(data, date_column:str):\n",
    "    data_df = pd.DataFrame(data)\n",
    "    data_df[date_column] = pd.to_datetime(data[date_column])\n",
    "    data_df['Year'] = data_df[date_column].dt.year\n",
    "    data_df['Month'] = data_df[date_column].dt.month\n",
    "\n",
    "    return data_df\n",
    "\n",
    "extract_date(data, 'Date')\n"
   ]
  },
  {
   "cell_type": "markdown",
   "metadata": {},
   "source": [
    "**Question 12:\tExplain the purpose of pivot_table() in Pandas. How would you use it to create a summary table showing the average Sales for each Product and Country?**\n",
    "\n",
    "- *time: 5 min*      \n",
    "\n",
    "- *Source: Pandas documentation - I learned this new! I had never created a pivot table in Pandas. I think this was a very nice question*\n",
    "\n",
    "Answer:"
   ]
  },
  {
   "cell_type": "code",
   "execution_count": 24,
   "metadata": {},
   "outputs": [
    {
     "data": {
      "text/html": [
       "<div>\n",
       "<style scoped>\n",
       "    .dataframe tbody tr th:only-of-type {\n",
       "        vertical-align: middle;\n",
       "    }\n",
       "\n",
       "    .dataframe tbody tr th {\n",
       "        vertical-align: top;\n",
       "    }\n",
       "\n",
       "    .dataframe thead th {\n",
       "        text-align: right;\n",
       "    }\n",
       "</style>\n",
       "<table border=\"1\" class=\"dataframe\">\n",
       "  <thead>\n",
       "    <tr style=\"text-align: right;\">\n",
       "      <th>Country</th>\n",
       "      <th>AU</th>\n",
       "      <th>CA</th>\n",
       "      <th>FR</th>\n",
       "      <th>USA</th>\n",
       "    </tr>\n",
       "    <tr>\n",
       "      <th>ProductID</th>\n",
       "      <th></th>\n",
       "      <th></th>\n",
       "      <th></th>\n",
       "      <th></th>\n",
       "    </tr>\n",
       "  </thead>\n",
       "  <tbody>\n",
       "    <tr>\n",
       "      <th>1</th>\n",
       "      <td>NaN</td>\n",
       "      <td>NaN</td>\n",
       "      <td>2000.0</td>\n",
       "      <td>3000.0</td>\n",
       "    </tr>\n",
       "    <tr>\n",
       "      <th>2</th>\n",
       "      <td>5000.0</td>\n",
       "      <td>1000.0</td>\n",
       "      <td>NaN</td>\n",
       "      <td>200.0</td>\n",
       "    </tr>\n",
       "  </tbody>\n",
       "</table>\n",
       "</div>"
      ],
      "text/plain": [
       "Country        AU      CA      FR     USA\n",
       "ProductID                                \n",
       "1             NaN     NaN  2000.0  3000.0\n",
       "2          5000.0  1000.0     NaN   200.0"
      ]
     },
     "execution_count": 24,
     "metadata": {},
     "output_type": "execute_result"
    }
   ],
   "source": [
    "data = pd.DataFrame({'Country': ['USA', 'FR', 'CA','USA', 'AU'],\n",
    "        'ProductID':['1','1','2','2','2'],\n",
    "        'Sales':[3000,2000,1000,200,5000],\n",
    "        'Date':['2024-10-23','2024-04-09','2024-03-24','2024-01-15','2024-08-24']\n",
    "        })\n",
    "\n",
    "def summary_table(data,group1:str,group2:str,variable:str,aggregation:str):\n",
    "    summary_table = data.pivot_table(index = group1, columns = group2, values = variable, aggfunc = aggregation)\n",
    "    return summary_table\n",
    "\n",
    "\n",
    "summary_table(data,'ProductID','Country','Sales','mean')"
   ]
  },
  {
   "cell_type": "markdown",
   "metadata": {},
   "source": [
    "**Question 13: Write Pandas code to convert a column of string dates in the format MM/DD/YYYY to datetime objects. How would you ensure that the column is set as the index of the DataFrame?**\n",
    "\n",
    "- *time: 1-2 min*      \n",
    "\n",
    "- *Source: Closed book*\n",
    "\n",
    "Answer:"
   ]
  },
  {
   "cell_type": "code",
   "execution_count": 12,
   "metadata": {},
   "outputs": [
    {
     "data": {
      "text/html": [
       "<div>\n",
       "<style scoped>\n",
       "    .dataframe tbody tr th:only-of-type {\n",
       "        vertical-align: middle;\n",
       "    }\n",
       "\n",
       "    .dataframe tbody tr th {\n",
       "        vertical-align: top;\n",
       "    }\n",
       "\n",
       "    .dataframe thead th {\n",
       "        text-align: right;\n",
       "    }\n",
       "</style>\n",
       "<table border=\"1\" class=\"dataframe\">\n",
       "  <thead>\n",
       "    <tr style=\"text-align: right;\">\n",
       "      <th></th>\n",
       "      <th>Country</th>\n",
       "      <th>ProductID</th>\n",
       "      <th>Sales</th>\n",
       "      <th>Year</th>\n",
       "      <th>Month</th>\n",
       "    </tr>\n",
       "    <tr>\n",
       "      <th>Date</th>\n",
       "      <th></th>\n",
       "      <th></th>\n",
       "      <th></th>\n",
       "      <th></th>\n",
       "      <th></th>\n",
       "    </tr>\n",
       "  </thead>\n",
       "  <tbody>\n",
       "    <tr>\n",
       "      <th>2024-10-23</th>\n",
       "      <td>USA</td>\n",
       "      <td>1</td>\n",
       "      <td>3000</td>\n",
       "      <td>2024</td>\n",
       "      <td>10</td>\n",
       "    </tr>\n",
       "    <tr>\n",
       "      <th>2024-04-09</th>\n",
       "      <td>FR</td>\n",
       "      <td>2</td>\n",
       "      <td>2000</td>\n",
       "      <td>2024</td>\n",
       "      <td>4</td>\n",
       "    </tr>\n",
       "    <tr>\n",
       "      <th>2024-03-24</th>\n",
       "      <td>CA</td>\n",
       "      <td>3</td>\n",
       "      <td>1000</td>\n",
       "      <td>2024</td>\n",
       "      <td>3</td>\n",
       "    </tr>\n",
       "    <tr>\n",
       "      <th>2024-01-15</th>\n",
       "      <td>USA</td>\n",
       "      <td>4</td>\n",
       "      <td>200</td>\n",
       "      <td>2024</td>\n",
       "      <td>1</td>\n",
       "    </tr>\n",
       "    <tr>\n",
       "      <th>2024-08-24</th>\n",
       "      <td>AU</td>\n",
       "      <td>5</td>\n",
       "      <td>5000</td>\n",
       "      <td>2024</td>\n",
       "      <td>8</td>\n",
       "    </tr>\n",
       "  </tbody>\n",
       "</table>\n",
       "</div>"
      ],
      "text/plain": [
       "           Country ProductID  Sales  Year  Month\n",
       "Date                                            \n",
       "2024-10-23     USA         1   3000  2024     10\n",
       "2024-04-09      FR         2   2000  2024      4\n",
       "2024-03-24      CA         3   1000  2024      3\n",
       "2024-01-15     USA         4    200  2024      1\n",
       "2024-08-24      AU         5   5000  2024      8"
      ]
     },
     "execution_count": 12,
     "metadata": {},
     "output_type": "execute_result"
    }
   ],
   "source": [
    "data = {'Country': ['USA', 'FR', 'CA','USA', 'AU'],\n",
    "        'ProductID':['1','2','3','4','5'],\n",
    "        'Sales':[3000,2000,1000,200,5000],\n",
    "        'Date':['2024-10-23','2024-04-09','2024-03-24','2024-01-15','2024-08-24']\n",
    "        }\n",
    "\n",
    "def set_date_as_index(data, date_field:str):\n",
    "    data_df = extract_date(data, 'Date').set_index(date_field)\n",
    "    return data_df\n",
    "\n",
    "set_date_as_index(data, 'Date')"
   ]
  },
  {
   "cell_type": "markdown",
   "metadata": {},
   "source": [
    "***\n",
    "**Section 3: Data Processing for Market Research**\n",
    "***"
   ]
  },
  {
   "cell_type": "markdown",
   "metadata": {},
   "source": [
    "**Question 14: In market research, data can often be incomplete or messy. How would you handle a dataset with 10% missing responses for a survey question? Provide your reasoning**\n",
    "\n",
    "- *time: 5-7 min*      \n",
    "\n",
    "- *Source: Closed book + Internet browsing to find specific concept definitions in English*\n",
    "\n",
    "Answer:\n",
    "\n",
    "It is true that data can be messy, and there are cases where all the responses are not collected. I think the first step should involve an comprehensive analysis of the missing data, meaning checking if there are any patterns in the responses that are missing, whether the missing responses are concentrated in a particular demographic group. If there are patterns, I would contact the experts team and share the findings, in case that data could be potentially accessed. In a negative scenario, where we have that percentage of mising data, I think it would be necessary to evaluate if the missing data is significant or determinant for the study. If not, these respondents could be excluded. Otherwise, other techniques could be applied, such as filling the missing values with the mean or median of the sample. If the sample is segemntated by groups, instead of filling the missing values with the overall mean, we could calculate the average for the respective groups that share similar characteristics (KNN). After proceeding with the decision to either exclude, or fill the missing values with data, I would document the transformations in place.  "
   ]
  },
  {
   "cell_type": "markdown",
   "metadata": {},
   "source": [
    "**Question 15: Given a large dataset with survey results, describe how you would identify and handle outliers in a column containing numerical data (e.g., age of respondents).**\n",
    "\n",
    "- *time: 3-5 min*      \n",
    "\n",
    "- *Source: Closed book + Internet browsing to find specific concept definitions in English*\n",
    "\n",
    "Answer: \n",
    "\n",
    "There are global outliers - isolated data points from the body of the data - and contextual outliers - harder to detect because the condition of being an outlier depends on a specific context, for example a datapoint with value 150 could be considered an outlier in an age question but not in a price question, therefore additional conditions may apply to detect whether this datapoint is indeed an outlier.\n",
    "\n",
    "There are different techniques to deal with a confirmed outliers:\n",
    "Removal - Removes the data point entirely from the dataset.\n",
    "Transformation - Trasform the data to aleviate the effect of the outliers, for instance: scaling(normalizing the data), winzorizing (replace the data with the nearest no-outlier value), log transformation (to soften the impact of extreme values in the data), capping (determine a range and capping the values to those pre-determined limits)"
   ]
  },
  {
   "cell_type": "markdown",
   "metadata": {},
   "source": [
    "**Question 16: Explain the process of normalizing or scaling data. Why is it important in market research, and how would you implement it using Pandas?**\n",
    "\n",
    "- *time: 7-10 min*      \n",
    "\n",
    "- *Source: Closed book + Codey(Ipsos Facto) to provide a Pandas code - not familiar with normalization in Pandas*\n",
    "\n",
    "Answer:\n",
    "\n",
    "I understand by normalizing or scaling the data to get all the variables in a data to a similar scale where values can be considered comparables. In this sense, this technique is indeed very important to market research, as it faciliates the data management, analysis, and interpretation. It makes it easier to identify patterns, trends and relationships accross the data. \n",
    "\n",
    "As I have not been exposed to any data normalization, I used Codey (through Ipsos Facto) to provide an example on how to use pandas to implement one case of normalization -  This example would create a normalized dataFrame where the mean of each feature is zero and their standard deviation is 1"
   ]
  },
  {
   "cell_type": "code",
   "execution_count": 79,
   "metadata": {},
   "outputs": [
    {
     "name": "stdout",
     "output_type": "stream",
     "text": [
      "        Age    Height    Weight\n",
      "0 -1.414214 -1.414214 -1.414214\n",
      "1 -0.707107 -0.707107 -0.707107\n",
      "2  0.000000  0.000000  0.000000\n",
      "3  0.707107  0.707107  0.707107\n",
      "4  1.414214  1.414214  1.414214\n"
     ]
    }
   ],
   "source": [
    "import pandas as pd\n",
    "from sklearn.preprocessing import StandardScaler\n",
    "\n",
    "# Create a sample DataFrame\n",
    "df = pd.DataFrame({\n",
    "    \"Age\": [20, 30, 40, 50, 60],\n",
    "    \"Height\": [1.6, 1.7, 1.8, 1.9, 2.0],\n",
    "    \"Weight\": [60, 70, 80, 90, 100]\n",
    "})\n",
    "\n",
    "# Create a StandardScaler object\n",
    "scaler = StandardScaler()\n",
    "\n",
    "# Fit the scaler to the data\n",
    "scaler.fit(df)\n",
    "\n",
    "# Transform the data\n",
    "normalized_df = scaler.transform(df)\n",
    "\n",
    "# Print the normalized data\n",
    "print(pd.DataFrame(normalized_df, columns = df.columns))\n"
   ]
  },
  {
   "cell_type": "markdown",
   "metadata": {},
   "source": [
    "**Question 17: You have a dataset where respondents can select multiple answers to a survey question (e.g., favorite hobbies). How would you transform this column, containing comma-separated values, into a format that allows easy analysis (hint: one-hot encoding)?**\n",
    "\n",
    "- *time: 3-5 min*      \n",
    "\n",
    "- *Source: Closed book. Response given with my knowledge, although I looked up for the definition on one-hot encoding(not familiar with this terminology)*\n",
    "\n",
    "- *Feedback: While the suggestion of using one-hot encoding is appropriate, it would be helpful to provide a brief explanation of the technique and how it works, in case applicant is not familiar with the technical term.*\n",
    "\n",
    "Answer:\n",
    "\n",
    "In order to deal with categorical questions (that allow mutliple selection), I would separate all the possible options into multiple columns (where one column would be corresponding to one of the possible categories - one column per category) and assign the values 0 or 1, where 1 would be assigned to those categories selected by each respondent otherwise a 0 would be in place. These method would facilitate later aggregations per category in the question.\n",
    " "
   ]
  },
  {
   "cell_type": "markdown",
   "metadata": {},
   "source": [
    "**Question 18: Market research often involves comparing results across time periods. Write Pandas code to calculate the year-over-year change in Sales from the Date column of a DataFrame.**\n",
    "\n",
    "- *time: 5 min*      \n",
    "\n",
    "- *Source: Closed book*\n",
    "\n",
    "*I am assuming that the change year over year is expected to be calculated in percentage point*\n",
    "\n"
   ]
  },
  {
   "cell_type": "code",
   "execution_count": 75,
   "metadata": {},
   "outputs": [
    {
     "data": {
      "text/html": [
       "<div>\n",
       "<style scoped>\n",
       "    .dataframe tbody tr th:only-of-type {\n",
       "        vertical-align: middle;\n",
       "    }\n",
       "\n",
       "    .dataframe tbody tr th {\n",
       "        vertical-align: top;\n",
       "    }\n",
       "\n",
       "    .dataframe thead th {\n",
       "        text-align: right;\n",
       "    }\n",
       "</style>\n",
       "<table border=\"1\" class=\"dataframe\">\n",
       "  <thead>\n",
       "    <tr style=\"text-align: right;\">\n",
       "      <th></th>\n",
       "      <th>Date</th>\n",
       "      <th>Sales</th>\n",
       "      <th>change_yoy</th>\n",
       "    </tr>\n",
       "  </thead>\n",
       "  <tbody>\n",
       "    <tr>\n",
       "      <th>3</th>\n",
       "      <td>2018-10-15</td>\n",
       "      <td>200</td>\n",
       "      <td>0.0 %</td>\n",
       "    </tr>\n",
       "    <tr>\n",
       "      <th>4</th>\n",
       "      <td>2019-10-24</td>\n",
       "      <td>5000</td>\n",
       "      <td>24.0 %</td>\n",
       "    </tr>\n",
       "    <tr>\n",
       "      <th>5</th>\n",
       "      <td>2020-10-03</td>\n",
       "      <td>7000</td>\n",
       "      <td>0.4 %</td>\n",
       "    </tr>\n",
       "    <tr>\n",
       "      <th>6</th>\n",
       "      <td>2021-10-03</td>\n",
       "      <td>500</td>\n",
       "      <td>-0.93 %</td>\n",
       "    </tr>\n",
       "    <tr>\n",
       "      <th>0</th>\n",
       "      <td>2022-10-23</td>\n",
       "      <td>3000</td>\n",
       "      <td>5.0 %</td>\n",
       "    </tr>\n",
       "    <tr>\n",
       "      <th>1</th>\n",
       "      <td>2023-10-09</td>\n",
       "      <td>2000</td>\n",
       "      <td>-0.33 %</td>\n",
       "    </tr>\n",
       "    <tr>\n",
       "      <th>2</th>\n",
       "      <td>2024-10-24</td>\n",
       "      <td>1000</td>\n",
       "      <td>-0.5 %</td>\n",
       "    </tr>\n",
       "  </tbody>\n",
       "</table>\n",
       "</div>"
      ],
      "text/plain": [
       "         Date  Sales change_yoy\n",
       "3  2018-10-15    200      0.0 %\n",
       "4  2019-10-24   5000     24.0 %\n",
       "5  2020-10-03   7000      0.4 %\n",
       "6  2021-10-03    500    -0.93 %\n",
       "0  2022-10-23   3000      5.0 %\n",
       "1  2023-10-09   2000    -0.33 %\n",
       "2  2024-10-24   1000     -0.5 %"
      ]
     },
     "execution_count": 75,
     "metadata": {},
     "output_type": "execute_result"
    }
   ],
   "source": [
    "data = pd.DataFrame({\n",
    "    'Date':['2022-10-23','2023-10-09','2024-10-24','2018-10-15','2019-10-24', '2020-10-03','2021-10-03'],\n",
    "    'Sales':[3000,2000,1000,200,5000,7000,500]        \n",
    "})\n",
    "\n",
    "data.head()\n",
    "\n",
    "def change_yoy(data, sort_column:str, values: str):\n",
    "    data_sorted = data.sort_values([sort_column])\n",
    "      \n",
    "    data_sorted['change_yoy'] = data_sorted[values].pct_change().apply(lambda c: round(c, 2)).fillna(0).astype(str) + ' %'\n",
    "\n",
    "    return data_sorted\n",
    "\n",
    "change_yoy(data,'Date', 'Sales')"
   ]
  },
  {
   "cell_type": "markdown",
   "metadata": {},
   "source": [
    "***\n",
    "**Section 4: Problem Solving and Optimization**\n",
    "***"
   ]
  },
  {
   "cell_type": "markdown",
   "metadata": {},
   "source": [
    "**Question 19:\tYou are working with a large dataset that doesn’t fit in memory. Describe how you would handle this situation in Python using Pandas. What strategies would you use to process the data efficiently?**\n",
    "\n",
    "- *time: 5 min*      \n",
    "\n",
    "- *Source: Closed book*\n"
   ]
  },
  {
   "cell_type": "markdown",
   "metadata": {},
   "source": [
    "In order to handle optimization challenges, there are a few solutions that Pandas offer:\n",
    "\n",
    "Pandas is very powerful to use while dealing with dataframes, that are less memory intense, and decrease processing time. \n",
    "\n",
    "- In order to use Pandas functionalities correctly, is important to fully understand the data, to accurately select the most convenient data structure. \n",
    "- Simultaneously, Pandas operates in a vectorized manner, that means that we can apply function to an entire array without needing to create unnecessary forloops. \n",
    "- Pandas allows for the use of indexing and slicing, which allows to use a specific row or column without needing to create unnecessary copies of the dataframe, saving space in memory. \n",
    "- Using the methods suggested above, such as group_by(), apply(), merge(), and others."
   ]
  },
  {
   "cell_type": "markdown",
   "metadata": {},
   "source": [
    "**Question 20:\tA market research report requires you to analyze a dataset with millions of rows. Write Python code that uses Pandas to calculate the mean and standard deviation of a specific column ('Sales') in chunks to avoid memory issues.**\n",
    "\n",
    "- *time: 10-15 min*      \n",
    "\n",
    "- *Source: Ipsos Facto - I was not familiar with the concept of chunks- Have not used it yet. Very insightful! I loved this question*\n"
   ]
  },
  {
   "cell_type": "code",
   "execution_count": 83,
   "metadata": {},
   "outputs": [],
   "source": [
    "def mean_std_per_chunks(filename, chunk_size:int, variable:str):\n",
    "\n",
    "    # Initiate the lists to store the mean and the standard deviation per chunk read\n",
    "    chunks_mean = []\n",
    "    chunks_std = []\n",
    "\n",
    "    # Iterate over the chunks, and proceed with the corresponding calculations\n",
    "\n",
    "    for chunk in pd.read_csv(filename, chunksize = chunk_size):\n",
    "        # Calculate the mean and std per chunk\n",
    "        mean = chunk[variable].mean()\n",
    "        std = chunk[variable].std()\n",
    "\n",
    "        # Append individual chunk mean and std to the global lists previously created\n",
    "        chunks_mean.append(mean)\n",
    "        chunks_std.append(std)\n",
    "    \n",
    "    # Calculate the overall mean and standard deviation for the global mean and standard deviation global lists previously created\n",
    "    mean_overall = sum(chunks_mean)/len(chunks_mean)\n",
    "    std_overall = sum(chunks_std)/len(chunks_std)\n",
    "\n",
    "    return f'The {variable} mean is {mean_overall}, and the {variable} standard deviation is {std_overall}'\n",
    "    "
   ]
  }
 ],
 "metadata": {
  "kernelspec": {
   "display_name": "Python 3",
   "language": "python",
   "name": "python3"
  },
  "language_info": {
   "codemirror_mode": {
    "name": "ipython",
    "version": 3
   },
   "file_extension": ".py",
   "mimetype": "text/x-python",
   "name": "python",
   "nbconvert_exporter": "python",
   "pygments_lexer": "ipython3",
   "version": "3.7.9"
  }
 },
 "nbformat": 4,
 "nbformat_minor": 2
}
